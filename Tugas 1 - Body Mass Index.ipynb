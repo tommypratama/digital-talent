{
 "cells": [
  {
   "cell_type": "markdown",
   "metadata": {},
   "source": [
    "# 1. Menghitung Body Mass Index"
   ]
  },
  {
   "cell_type": "code",
   "execution_count": 4,
   "metadata": {},
   "outputs": [
    {
     "name": "stdout",
     "output_type": "stream",
     "text": [
      "Body Mass Index: 20.91070815517618\n",
      "Kategori: Normal (healthy weight)\n"
     ]
    }
   ],
   "source": [
    "\n",
    "berat_badan = 67\n",
    "tinggi_badan = 179\n",
    "bmi = berat_badan / (tinggi_badan / 100)**2\n",
    "print(\"Body Mass Index:\", bmi)\n",
    "\n",
    "\n",
    "if(bmi < 15):\n",
    "    print(\"Kategori: Very severely underweight\")\n",
    "elif(bmi <= 16):\n",
    "    print(\"Kategori: Severely underweight\")\n",
    "elif(bmi <= 18.5):\n",
    "    print(\"Kategori: Underweight\")\n",
    "elif(bmi <= 25):\n",
    "    print(\"Kategori: Normal (healthy weight)\")\n",
    "elif(bmi <= 30):\n",
    "    print(\"Kategori: Overweight\")\n",
    "elif(bmi <= 35):\n",
    "    print(\"Kategori: Moderately obese\")\n",
    "elif(bmi <= 40):\n",
    "    print(\"Kategori: Severely obese\")\n",
    "elif(bmi > 40):\n",
    "    print(\"Kategori: Very severely obese\")\n",
    "\n",
    "\n"
   ]
  }
 ],
 "metadata": {
  "kernelspec": {
   "display_name": "Python 3",
   "language": "python",
   "name": "python3"
  },
  "language_info": {
   "codemirror_mode": {
    "name": "ipython",
    "version": 3
   },
   "file_extension": ".py",
   "mimetype": "text/x-python",
   "name": "python",
   "nbconvert_exporter": "python",
   "pygments_lexer": "ipython3",
   "version": "3.7.0"
  }
 },
 "nbformat": 4,
 "nbformat_minor": 2
}
