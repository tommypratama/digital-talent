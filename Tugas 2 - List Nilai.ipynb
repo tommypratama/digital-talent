{
 "cells": [
  {
   "cell_type": "markdown",
   "metadata": {},
   "source": [
    "# LATIHAN 2\n",
    "\n",
    "Diberikan sekumpulan Nilai Random antara 0 sampai dengan 100 sebanyak 250 nilai. Buatlah program untuk melakukan hal berikut:\n",
    "1. Tampilkan Angka Ganjil dari ke 50 nilai tersebut\n",
    "2. Tampilkan berapa banyak yang mendapatkan nilai lebih dari 70\n",
    "3. Tampilkan standar deviasi dari sekumpulan nilai tersebut\n",
    "4. Tampilkan nilai maksimum dan minimum\n",
    "5. Tampilkan modus dari sekumpulan nilai tersebut"
   ]
  },
  {
   "cell_type": "markdown",
   "metadata": {},
   "source": [
    "#### 0 Menampilkan angka random"
   ]
  },
  {
   "cell_type": "code",
   "execution_count": 47,
   "metadata": {},
   "outputs": [
    {
     "name": "stdout",
     "output_type": "stream",
     "text": [
      "[40, 2, 70, 88, 15, 45, 72, 2, 5, 39, 77, 18, 38, 46, 15, 80, 57, 75, 81, 39, 90, 61, 71, 29, 31, 12, 54, 73, 17, 26, 21, 83, 13, 56, 36, 44, 26, 24, 12, 77, 12, 98, 73, 75, 69, 53, 75, 40, 36, 36, 19, 37, 66, 43, 18, 94, 21, 67, 1, 19, 13, 26, 42, 80, 16, 13, 20, 78, 30, 48, 44, 14, 99, 91, 85, 59, 43, 14, 89, 33, 52, 60, 8, 74, 4, 38, 74, 53, 59, 82, 46, 85, 90, 23, 9, 5, 35, 43, 84, 77, 39, 98, 45, 25, 17, 92, 19, 8, 59, 20, 26, 21, 97, 1, 4, 9, 37, 87, 2, 74, 48, 76, 76, 7, 7, 21, 19, 41, 88, 18, 4, 90, 91, 22, 98, 41, 48, 57, 83, 15, 76, 48, 13, 2, 19, 85, 96, 67, 15, 57, 4, 46, 73, 46, 5, 55, 3, 4, 71, 61, 63, 38, 58, 61, 44, 60, 4, 27, 8, 99, 66, 60, 27, 96, 36, 15, 62, 5, 89, 88, 47, 11, 10, 61, 27, 23, 89, 64, 86, 2, 64, 72, 19, 30, 60, 9, 59, 24, 8, 34, 89, 44, 26, 85, 66, 29, 3, 25, 18, 62, 84, 55, 49, 47, 39, 40, 41, 14, 74, 38, 88, 7, 8, 16, 66, 16, 98, 4, 6, 24, 77, 25, 52, 91, 21, 78, 57, 53, 6, 60, 44, 72, 44, 5, 50, 36, 99, 91, 71, 86]\n"
     ]
    }
   ],
   "source": [
    "import random\n",
    "\n",
    "# GENERATE RANDOM\n",
    "nilaiTugas = []\n",
    "for i in range(250):\n",
    "    nilaiTugas.append(random.randrange(1,100,1))\n",
    "\n",
    "print(nilaiTugas)\n",
    "\n",
    "# TAMPILKAN:\n",
    "# ganjil\n",
    "# nilai > 70\n",
    "# standar deviasi\n",
    "# maksimum\n",
    "# minimum\n",
    "# modus"
   ]
  },
  {
   "cell_type": "markdown",
   "metadata": {},
   "source": [
    "#### 1. Tampilkan Angka Ganjil dari ke 250 nilai tersebut"
   ]
  },
  {
   "cell_type": "code",
   "execution_count": 20,
   "metadata": {},
   "outputs": [
    {
     "name": "stdout",
     "output_type": "stream",
     "text": [
      "[33, 5, 27, 9, 61, 29, 85, 11, 9, 11, 35, 75, 11, 57, 73, 79, 79, 11, 91, 87, 79, 25, 59, 3, 3, 43, 71, 71, 49, 63, 13, 89, 53, 87, 31, 19, 83, 25, 89, 11, 27, 21, 93, 75, 55, 35, 89, 15, 19, 9, 97, 33, 65, 17, 71, 29, 89, 41, 67, 73, 55, 3, 79, 57, 55, 39, 25, 29, 9, 39, 47, 97, 13, 85, 83, 55, 97, 45, 47, 35, 1, 93, 79, 73, 59, 31, 59, 67, 73, 93, 53, 19, 45, 71, 59, 59, 37, 9, 89, 97, 47, 1, 55, 21, 69, 41, 7, 11, 57, 27, 19, 25, 53, 9, 15, 57, 41, 31, 3, 57, 97, 89, 13, 97, 95, 73, 81, 75]\n"
     ]
    }
   ],
   "source": [
    "angkaGanjil = []\n",
    "\n",
    "for g in nilaiTugas:\n",
    "    if g % 2 == 1:\n",
    "        angkaGanjil.append(g)\n",
    "\n",
    "print(angkaGanjil)"
   ]
  },
  {
   "cell_type": "markdown",
   "metadata": {},
   "source": [
    "#### 2. Tampilkan berapa banyak yang mendapatkan nilai lebih dari 70"
   ]
  },
  {
   "cell_type": "code",
   "execution_count": 50,
   "metadata": {},
   "outputs": [
    {
     "name": "stdout",
     "output_type": "stream",
     "text": [
      "[88, 72, 77, 80, 75, 81, 90, 71, 73, 83, 77, 98, 73, 75, 75, 94, 80, 78, 99, 91, 85, 89, 74, 74, 82, 85, 90, 84, 77, 98, 92, 97, 87, 74, 76, 76, 88, 90, 91, 98, 83, 76, 85, 96, 73, 71, 99, 96, 89, 88, 89, 86, 72, 89, 85, 84, 74, 88, 98, 77, 91, 78, 72, 99, 91, 71, 86]\n",
      "Nilai yang > 70 sebanyak =  67\n"
     ]
    }
   ],
   "source": [
    "nilaiLebihDari70= []\n",
    "\n",
    "for n in nilaiTugas:\n",
    "    if n>70:\n",
    "        nilaiLebihDari70.append(n)\n",
    "\n",
    "print (nilaiLebihDari70)\n",
    "\n",
    "print (\"Nilai yang > 70 sebanyak = \", len(nilaiLebihDari70))"
   ]
  },
  {
   "cell_type": "markdown",
   "metadata": {},
   "source": [
    "#### 3. Tampilkan standar deviasi dari sekumpulan nilai tersebut"
   ]
  },
  {
   "cell_type": "code",
   "execution_count": 62,
   "metadata": {},
   "outputs": [
    {
     "name": "stdout",
     "output_type": "stream",
     "text": [
      "mean =  45.64\n",
      "Standar Deviasi =  29.146773406330922\n"
     ]
    }
   ],
   "source": [
    "jumlah = 0\n",
    "for n in nilaiTugas:\n",
    "    jumlah = jumlah + n\n",
    "mean = jumlah / len(nilaiTugas)\n",
    "\n",
    "sg= 0\n",
    "for n in nilaiTugas:\n",
    "    i = (n - mean)**2\n",
    "    sg = sg + i\n",
    "    \n",
    "std_deviasi = ((sg/len(nilaiTugas)-1)**0.5)\n",
    "print(\"mean = \", mean)\n",
    "print(\"Standar Deviasi = \", std_deviasi)"
   ]
  },
  {
   "cell_type": "markdown",
   "metadata": {},
   "source": [
    "#### 4. Tampilkan nilai maksimum dan minimum"
   ]
  },
  {
   "cell_type": "code",
   "execution_count": 55,
   "metadata": {},
   "outputs": [
    {
     "name": "stdout",
     "output_type": "stream",
     "text": [
      "Nilai Maksimum = 99\n",
      "Nilai Minimum = 1\n"
     ]
    }
   ],
   "source": [
    "maksimum = max(nilaiTugas)\n",
    "minimum = min(nilaiTugas)\n",
    "\n",
    "print('Nilai Maksimum =', maksimum)\n",
    "print('Nilai Minimum =', minimum)"
   ]
  },
  {
   "cell_type": "markdown",
   "metadata": {},
   "source": [
    "#### 5. Tampilkan modus dari sekumpulan nilai tersebut"
   ]
  },
  {
   "cell_type": "code",
   "execution_count": 63,
   "metadata": {},
   "outputs": [
    {
     "name": "stdout",
     "output_type": "stream",
     "text": [
      "Nilai Modus = 4\n"
     ]
    }
   ],
   "source": [
    "nilaiModus=nilaiTugas[0]\n",
    "jumlah=nilaiTugas.count(nilaiModus)\n",
    "\n",
    "for x in nilaiTugas:\n",
    "    jumlahNilai=nilaiTugas.count(x)\n",
    "    if jumlahNilai>jumlah:\n",
    "        nilaiModus=x\n",
    "        jumlah=jumlahNilai\n",
    "        \n",
    "print(\"Nilai Modus =\", nilaiModus)"
   ]
  }
 ],
 "metadata": {
  "kernelspec": {
   "display_name": "Python 3",
   "language": "python",
   "name": "python3"
  },
  "language_info": {
   "codemirror_mode": {
    "name": "ipython",
    "version": 3
   },
   "file_extension": ".py",
   "mimetype": "text/x-python",
   "name": "python",
   "nbconvert_exporter": "python",
   "pygments_lexer": "ipython3",
   "version": "3.7.0"
  }
 },
 "nbformat": 4,
 "nbformat_minor": 2
}
